{
 "cells": [
  {
   "cell_type": "markdown",
   "id": "6861e2f9-e981-48f8-b67a-768fb530551a",
   "metadata": {},
   "source": [
    "# The Binary Classification Problem"
   ]
  },
  {
   "cell_type": "markdown",
   "id": "9f0ea4ef-b682-45ed-97cf-ffe9eb01e3f0",
   "metadata": {},
   "source": [
    "So far I've covered Neural Networks in the context of regression, i.e. approximating continous functions. However in the real world many use cases require approximating functions with discrete values. Classic examples of this are things like image detection, such as \"does a patient have breast cancer or not?\" To give a better example of this, I will introduce a dataset that we can examine prior to getting into the details of how to tackle this problem."
   ]
  },
  {
   "cell_type": "markdown",
   "id": "ee280a8a-45ed-4989-a9c1-453731f14a0f",
   "metadata": {},
   "source": [
    "## The Breast Cancer dataset\n",
    "To work with this we will need to use sklearn's breast cancer dataset"
   ]
  },
  {
   "cell_type": "code",
   "execution_count": 1,
   "id": "458e1253-3ab3-434d-bdc7-e15b041e1775",
   "metadata": {},
   "outputs": [],
   "source": [
    "from sklearn.datasets import load_breast_cancer\n",
    "import numpy as np\n",
    "\n",
    "# Load the breast_cancer dataset\n",
    "X, y = load_breast_cancer(return_X_y=True, as_frame=True)"
   ]
  },
  {
   "cell_type": "code",
   "execution_count": 2,
   "id": "9df5bd9c-2660-42e3-8653-de25f878244e",
   "metadata": {},
   "outputs": [
    {
     "data": {
      "text/html": [
       "<div>\n",
       "<style scoped>\n",
       "    .dataframe tbody tr th:only-of-type {\n",
       "        vertical-align: middle;\n",
       "    }\n",
       "\n",
       "    .dataframe tbody tr th {\n",
       "        vertical-align: top;\n",
       "    }\n",
       "\n",
       "    .dataframe thead th {\n",
       "        text-align: right;\n",
       "    }\n",
       "</style>\n",
       "<table border=\"1\" class=\"dataframe\">\n",
       "  <thead>\n",
       "    <tr style=\"text-align: right;\">\n",
       "      <th></th>\n",
       "      <th>mean radius</th>\n",
       "      <th>mean texture</th>\n",
       "      <th>mean perimeter</th>\n",
       "      <th>mean area</th>\n",
       "      <th>mean smoothness</th>\n",
       "      <th>mean compactness</th>\n",
       "      <th>mean concavity</th>\n",
       "      <th>mean concave points</th>\n",
       "      <th>mean symmetry</th>\n",
       "      <th>mean fractal dimension</th>\n",
       "      <th>...</th>\n",
       "      <th>worst radius</th>\n",
       "      <th>worst texture</th>\n",
       "      <th>worst perimeter</th>\n",
       "      <th>worst area</th>\n",
       "      <th>worst smoothness</th>\n",
       "      <th>worst compactness</th>\n",
       "      <th>worst concavity</th>\n",
       "      <th>worst concave points</th>\n",
       "      <th>worst symmetry</th>\n",
       "      <th>worst fractal dimension</th>\n",
       "    </tr>\n",
       "  </thead>\n",
       "  <tbody>\n",
       "    <tr>\n",
       "      <th>0</th>\n",
       "      <td>17.99</td>\n",
       "      <td>10.38</td>\n",
       "      <td>122.80</td>\n",
       "      <td>1001.0</td>\n",
       "      <td>0.11840</td>\n",
       "      <td>0.27760</td>\n",
       "      <td>0.30010</td>\n",
       "      <td>0.14710</td>\n",
       "      <td>0.2419</td>\n",
       "      <td>0.07871</td>\n",
       "      <td>...</td>\n",
       "      <td>25.380</td>\n",
       "      <td>17.33</td>\n",
       "      <td>184.60</td>\n",
       "      <td>2019.0</td>\n",
       "      <td>0.16220</td>\n",
       "      <td>0.66560</td>\n",
       "      <td>0.7119</td>\n",
       "      <td>0.2654</td>\n",
       "      <td>0.4601</td>\n",
       "      <td>0.11890</td>\n",
       "    </tr>\n",
       "    <tr>\n",
       "      <th>1</th>\n",
       "      <td>20.57</td>\n",
       "      <td>17.77</td>\n",
       "      <td>132.90</td>\n",
       "      <td>1326.0</td>\n",
       "      <td>0.08474</td>\n",
       "      <td>0.07864</td>\n",
       "      <td>0.08690</td>\n",
       "      <td>0.07017</td>\n",
       "      <td>0.1812</td>\n",
       "      <td>0.05667</td>\n",
       "      <td>...</td>\n",
       "      <td>24.990</td>\n",
       "      <td>23.41</td>\n",
       "      <td>158.80</td>\n",
       "      <td>1956.0</td>\n",
       "      <td>0.12380</td>\n",
       "      <td>0.18660</td>\n",
       "      <td>0.2416</td>\n",
       "      <td>0.1860</td>\n",
       "      <td>0.2750</td>\n",
       "      <td>0.08902</td>\n",
       "    </tr>\n",
       "    <tr>\n",
       "      <th>2</th>\n",
       "      <td>19.69</td>\n",
       "      <td>21.25</td>\n",
       "      <td>130.00</td>\n",
       "      <td>1203.0</td>\n",
       "      <td>0.10960</td>\n",
       "      <td>0.15990</td>\n",
       "      <td>0.19740</td>\n",
       "      <td>0.12790</td>\n",
       "      <td>0.2069</td>\n",
       "      <td>0.05999</td>\n",
       "      <td>...</td>\n",
       "      <td>23.570</td>\n",
       "      <td>25.53</td>\n",
       "      <td>152.50</td>\n",
       "      <td>1709.0</td>\n",
       "      <td>0.14440</td>\n",
       "      <td>0.42450</td>\n",
       "      <td>0.4504</td>\n",
       "      <td>0.2430</td>\n",
       "      <td>0.3613</td>\n",
       "      <td>0.08758</td>\n",
       "    </tr>\n",
       "    <tr>\n",
       "      <th>3</th>\n",
       "      <td>11.42</td>\n",
       "      <td>20.38</td>\n",
       "      <td>77.58</td>\n",
       "      <td>386.1</td>\n",
       "      <td>0.14250</td>\n",
       "      <td>0.28390</td>\n",
       "      <td>0.24140</td>\n",
       "      <td>0.10520</td>\n",
       "      <td>0.2597</td>\n",
       "      <td>0.09744</td>\n",
       "      <td>...</td>\n",
       "      <td>14.910</td>\n",
       "      <td>26.50</td>\n",
       "      <td>98.87</td>\n",
       "      <td>567.7</td>\n",
       "      <td>0.20980</td>\n",
       "      <td>0.86630</td>\n",
       "      <td>0.6869</td>\n",
       "      <td>0.2575</td>\n",
       "      <td>0.6638</td>\n",
       "      <td>0.17300</td>\n",
       "    </tr>\n",
       "    <tr>\n",
       "      <th>4</th>\n",
       "      <td>20.29</td>\n",
       "      <td>14.34</td>\n",
       "      <td>135.10</td>\n",
       "      <td>1297.0</td>\n",
       "      <td>0.10030</td>\n",
       "      <td>0.13280</td>\n",
       "      <td>0.19800</td>\n",
       "      <td>0.10430</td>\n",
       "      <td>0.1809</td>\n",
       "      <td>0.05883</td>\n",
       "      <td>...</td>\n",
       "      <td>22.540</td>\n",
       "      <td>16.67</td>\n",
       "      <td>152.20</td>\n",
       "      <td>1575.0</td>\n",
       "      <td>0.13740</td>\n",
       "      <td>0.20500</td>\n",
       "      <td>0.4000</td>\n",
       "      <td>0.1625</td>\n",
       "      <td>0.2364</td>\n",
       "      <td>0.07678</td>\n",
       "    </tr>\n",
       "    <tr>\n",
       "      <th>...</th>\n",
       "      <td>...</td>\n",
       "      <td>...</td>\n",
       "      <td>...</td>\n",
       "      <td>...</td>\n",
       "      <td>...</td>\n",
       "      <td>...</td>\n",
       "      <td>...</td>\n",
       "      <td>...</td>\n",
       "      <td>...</td>\n",
       "      <td>...</td>\n",
       "      <td>...</td>\n",
       "      <td>...</td>\n",
       "      <td>...</td>\n",
       "      <td>...</td>\n",
       "      <td>...</td>\n",
       "      <td>...</td>\n",
       "      <td>...</td>\n",
       "      <td>...</td>\n",
       "      <td>...</td>\n",
       "      <td>...</td>\n",
       "      <td>...</td>\n",
       "    </tr>\n",
       "    <tr>\n",
       "      <th>564</th>\n",
       "      <td>21.56</td>\n",
       "      <td>22.39</td>\n",
       "      <td>142.00</td>\n",
       "      <td>1479.0</td>\n",
       "      <td>0.11100</td>\n",
       "      <td>0.11590</td>\n",
       "      <td>0.24390</td>\n",
       "      <td>0.13890</td>\n",
       "      <td>0.1726</td>\n",
       "      <td>0.05623</td>\n",
       "      <td>...</td>\n",
       "      <td>25.450</td>\n",
       "      <td>26.40</td>\n",
       "      <td>166.10</td>\n",
       "      <td>2027.0</td>\n",
       "      <td>0.14100</td>\n",
       "      <td>0.21130</td>\n",
       "      <td>0.4107</td>\n",
       "      <td>0.2216</td>\n",
       "      <td>0.2060</td>\n",
       "      <td>0.07115</td>\n",
       "    </tr>\n",
       "    <tr>\n",
       "      <th>565</th>\n",
       "      <td>20.13</td>\n",
       "      <td>28.25</td>\n",
       "      <td>131.20</td>\n",
       "      <td>1261.0</td>\n",
       "      <td>0.09780</td>\n",
       "      <td>0.10340</td>\n",
       "      <td>0.14400</td>\n",
       "      <td>0.09791</td>\n",
       "      <td>0.1752</td>\n",
       "      <td>0.05533</td>\n",
       "      <td>...</td>\n",
       "      <td>23.690</td>\n",
       "      <td>38.25</td>\n",
       "      <td>155.00</td>\n",
       "      <td>1731.0</td>\n",
       "      <td>0.11660</td>\n",
       "      <td>0.19220</td>\n",
       "      <td>0.3215</td>\n",
       "      <td>0.1628</td>\n",
       "      <td>0.2572</td>\n",
       "      <td>0.06637</td>\n",
       "    </tr>\n",
       "    <tr>\n",
       "      <th>566</th>\n",
       "      <td>16.60</td>\n",
       "      <td>28.08</td>\n",
       "      <td>108.30</td>\n",
       "      <td>858.1</td>\n",
       "      <td>0.08455</td>\n",
       "      <td>0.10230</td>\n",
       "      <td>0.09251</td>\n",
       "      <td>0.05302</td>\n",
       "      <td>0.1590</td>\n",
       "      <td>0.05648</td>\n",
       "      <td>...</td>\n",
       "      <td>18.980</td>\n",
       "      <td>34.12</td>\n",
       "      <td>126.70</td>\n",
       "      <td>1124.0</td>\n",
       "      <td>0.11390</td>\n",
       "      <td>0.30940</td>\n",
       "      <td>0.3403</td>\n",
       "      <td>0.1418</td>\n",
       "      <td>0.2218</td>\n",
       "      <td>0.07820</td>\n",
       "    </tr>\n",
       "    <tr>\n",
       "      <th>567</th>\n",
       "      <td>20.60</td>\n",
       "      <td>29.33</td>\n",
       "      <td>140.10</td>\n",
       "      <td>1265.0</td>\n",
       "      <td>0.11780</td>\n",
       "      <td>0.27700</td>\n",
       "      <td>0.35140</td>\n",
       "      <td>0.15200</td>\n",
       "      <td>0.2397</td>\n",
       "      <td>0.07016</td>\n",
       "      <td>...</td>\n",
       "      <td>25.740</td>\n",
       "      <td>39.42</td>\n",
       "      <td>184.60</td>\n",
       "      <td>1821.0</td>\n",
       "      <td>0.16500</td>\n",
       "      <td>0.86810</td>\n",
       "      <td>0.9387</td>\n",
       "      <td>0.2650</td>\n",
       "      <td>0.4087</td>\n",
       "      <td>0.12400</td>\n",
       "    </tr>\n",
       "    <tr>\n",
       "      <th>568</th>\n",
       "      <td>7.76</td>\n",
       "      <td>24.54</td>\n",
       "      <td>47.92</td>\n",
       "      <td>181.0</td>\n",
       "      <td>0.05263</td>\n",
       "      <td>0.04362</td>\n",
       "      <td>0.00000</td>\n",
       "      <td>0.00000</td>\n",
       "      <td>0.1587</td>\n",
       "      <td>0.05884</td>\n",
       "      <td>...</td>\n",
       "      <td>9.456</td>\n",
       "      <td>30.37</td>\n",
       "      <td>59.16</td>\n",
       "      <td>268.6</td>\n",
       "      <td>0.08996</td>\n",
       "      <td>0.06444</td>\n",
       "      <td>0.0000</td>\n",
       "      <td>0.0000</td>\n",
       "      <td>0.2871</td>\n",
       "      <td>0.07039</td>\n",
       "    </tr>\n",
       "  </tbody>\n",
       "</table>\n",
       "<p>569 rows × 30 columns</p>\n",
       "</div>"
      ],
      "text/plain": [
       "     mean radius  mean texture  mean perimeter  mean area  mean smoothness  \\\n",
       "0          17.99         10.38          122.80     1001.0          0.11840   \n",
       "1          20.57         17.77          132.90     1326.0          0.08474   \n",
       "2          19.69         21.25          130.00     1203.0          0.10960   \n",
       "3          11.42         20.38           77.58      386.1          0.14250   \n",
       "4          20.29         14.34          135.10     1297.0          0.10030   \n",
       "..           ...           ...             ...        ...              ...   \n",
       "564        21.56         22.39          142.00     1479.0          0.11100   \n",
       "565        20.13         28.25          131.20     1261.0          0.09780   \n",
       "566        16.60         28.08          108.30      858.1          0.08455   \n",
       "567        20.60         29.33          140.10     1265.0          0.11780   \n",
       "568         7.76         24.54           47.92      181.0          0.05263   \n",
       "\n",
       "     mean compactness  mean concavity  mean concave points  mean symmetry  \\\n",
       "0             0.27760         0.30010              0.14710         0.2419   \n",
       "1             0.07864         0.08690              0.07017         0.1812   \n",
       "2             0.15990         0.19740              0.12790         0.2069   \n",
       "3             0.28390         0.24140              0.10520         0.2597   \n",
       "4             0.13280         0.19800              0.10430         0.1809   \n",
       "..                ...             ...                  ...            ...   \n",
       "564           0.11590         0.24390              0.13890         0.1726   \n",
       "565           0.10340         0.14400              0.09791         0.1752   \n",
       "566           0.10230         0.09251              0.05302         0.1590   \n",
       "567           0.27700         0.35140              0.15200         0.2397   \n",
       "568           0.04362         0.00000              0.00000         0.1587   \n",
       "\n",
       "     mean fractal dimension  ...  worst radius  worst texture  \\\n",
       "0                   0.07871  ...        25.380          17.33   \n",
       "1                   0.05667  ...        24.990          23.41   \n",
       "2                   0.05999  ...        23.570          25.53   \n",
       "3                   0.09744  ...        14.910          26.50   \n",
       "4                   0.05883  ...        22.540          16.67   \n",
       "..                      ...  ...           ...            ...   \n",
       "564                 0.05623  ...        25.450          26.40   \n",
       "565                 0.05533  ...        23.690          38.25   \n",
       "566                 0.05648  ...        18.980          34.12   \n",
       "567                 0.07016  ...        25.740          39.42   \n",
       "568                 0.05884  ...         9.456          30.37   \n",
       "\n",
       "     worst perimeter  worst area  worst smoothness  worst compactness  \\\n",
       "0             184.60      2019.0           0.16220            0.66560   \n",
       "1             158.80      1956.0           0.12380            0.18660   \n",
       "2             152.50      1709.0           0.14440            0.42450   \n",
       "3              98.87       567.7           0.20980            0.86630   \n",
       "4             152.20      1575.0           0.13740            0.20500   \n",
       "..               ...         ...               ...                ...   \n",
       "564           166.10      2027.0           0.14100            0.21130   \n",
       "565           155.00      1731.0           0.11660            0.19220   \n",
       "566           126.70      1124.0           0.11390            0.30940   \n",
       "567           184.60      1821.0           0.16500            0.86810   \n",
       "568            59.16       268.6           0.08996            0.06444   \n",
       "\n",
       "     worst concavity  worst concave points  worst symmetry  \\\n",
       "0             0.7119                0.2654          0.4601   \n",
       "1             0.2416                0.1860          0.2750   \n",
       "2             0.4504                0.2430          0.3613   \n",
       "3             0.6869                0.2575          0.6638   \n",
       "4             0.4000                0.1625          0.2364   \n",
       "..               ...                   ...             ...   \n",
       "564           0.4107                0.2216          0.2060   \n",
       "565           0.3215                0.1628          0.2572   \n",
       "566           0.3403                0.1418          0.2218   \n",
       "567           0.9387                0.2650          0.4087   \n",
       "568           0.0000                0.0000          0.2871   \n",
       "\n",
       "     worst fractal dimension  \n",
       "0                    0.11890  \n",
       "1                    0.08902  \n",
       "2                    0.08758  \n",
       "3                    0.17300  \n",
       "4                    0.07678  \n",
       "..                       ...  \n",
       "564                  0.07115  \n",
       "565                  0.06637  \n",
       "566                  0.07820  \n",
       "567                  0.12400  \n",
       "568                  0.07039  \n",
       "\n",
       "[569 rows x 30 columns]"
      ]
     },
     "execution_count": 2,
     "metadata": {},
     "output_type": "execute_result"
    }
   ],
   "source": [
    "X"
   ]
  },
  {
   "cell_type": "code",
   "execution_count": 3,
   "id": "a98861f8-3818-42f0-b5ed-8f64be7e8dbe",
   "metadata": {},
   "outputs": [
    {
     "data": {
      "text/plain": [
       "0      0\n",
       "1      0\n",
       "2      0\n",
       "3      0\n",
       "4      0\n",
       "      ..\n",
       "564    0\n",
       "565    0\n",
       "566    0\n",
       "567    0\n",
       "568    1\n",
       "Name: target, Length: 569, dtype: int64"
      ]
     },
     "execution_count": 3,
     "metadata": {},
     "output_type": "execute_result"
    }
   ],
   "source": [
    "y"
   ]
  },
  {
   "cell_type": "markdown",
   "id": "02dcfb61-e710-49ff-96ad-abddb82a427f",
   "metadata": {},
   "source": [
    "We can see here that the dataset's feature values are continuous and the labels are discrete. So how can we approximate the labels using the features? The first step is luckily something I've covered before. The sigmoid function, recall that it has the convenient property of clamping any value in $\\mathbb{R}$ between the interval [0,1]. That means that by defining a neural network similarly to how we did under Linear Regression but applying the sigmoid function as an activation to the final layer, the neural network can be treated as a function that estimates the probability that a feature vecttor corresponds to a 1. In this particular case 1 represents the boolean answer to the question \"Does the patient have breast cancer?\"."
   ]
  },
  {
   "cell_type": "code",
   "execution_count": 4,
   "id": "9a44d117-ebe0-46bc-9614-7f4ad54dd6e1",
   "metadata": {},
   "outputs": [],
   "source": [
    "def sigmoid(x):\n",
    "    return np.exp(x) / ( 1 + np.exp(x))\n",
    "    "
   ]
  },
  {
   "cell_type": "code",
   "execution_count": 5,
   "id": "df3f03b0-b24a-47be-8d9a-e7384e28fcc9",
   "metadata": {},
   "outputs": [
    {
     "data": {
      "text/plain": [
       "Text(0, 0.5, 'sigmoid(x)')"
      ]
     },
     "execution_count": 5,
     "metadata": {},
     "output_type": "execute_result"
    },
    {
     "data": {
      "image/png": "[encoded data removed]",
      "text/plain": [
       "<Figure size 640x480 with 1 Axes>"
      ]
     },
     "metadata": {},
     "output_type": "display_data"
    }
   ],
   "source": [
    "import matplotlib.pyplot as plt \n",
    "import numpy as np \n",
    "# graphing the sigmoid function\n",
    "fa = np.linspace(-10, 10, 100) \n",
    "\n",
    "\n",
    "a = sigmoid(fa)\n",
    "plt.plot(fa, a) \n",
    "plt.xlabel(\"x\") \n",
    "plt.ylabel(\"sigmoid(x)\")"
   ]
  },
  {
   "cell_type": "markdown",
   "id": "319e53fe-1d1f-4eb5-bb10-94ccdd01434a",
   "metadata": {},
   "source": [
    "## The loss function in binary classification"
   ]
  },
  {
   "cell_type": "markdown",
   "id": "55cceecd-5a31-44a7-aa18-bb5a6f390d7c",
   "metadata": {},
   "source": [
    "The probability estimation given by the output of the neural network's forward pass is nice, but how do we optimize the network? How do we perform gradient descent on the network if it's giving probabilities, the MSE loss won't work because the loss will always be tiny. At most the loss will only ever be 1, and if the neural consistently guesses .5 the loss function will be .25 for values of both 0 and 1. The main solution to this problem is the Binary Cross Entropy Loss Function."
   ]
  },
  {
   "cell_type": "markdown",
   "id": "e9651cb8-72e4-476a-9d9c-bc2b0e014a9f",
   "metadata": {},
   "source": [
    "### The Binary Cross Entropy Loss Function\n",
    "The binary cross entropy loss can be defined as $$L = - [y \\cdot \\ln (\\hat{y}) + (1 - y) \\cdot \\ln( 1 - \\hat{y})]$$\n",
    "Where $ln$ refers to the natural log and $\\hat{y}$ refers to the output of the neural network with the sigmoid function applied to it. "
   ]
  },
  {
   "cell_type": "code",
   "execution_count": 6,
   "id": "bdc16c78-1c65-46ef-82ad-5b6719b65c5b",
   "metadata": {},
   "outputs": [
    {
     "data": {
      "text/plain": [
       "Text(0, 0.5, 'natual log(x)')"
      ]
     },
     "execution_count": 6,
     "metadata": {},
     "output_type": "execute_result"
    },
    {
     "data": {
      "image/png": "[encoded data removed]",
      "text/plain": [
       "<Figure size 640x480 with 1 Axes>"
      ]
     },
     "metadata": {},
     "output_type": "display_data"
    }
   ],
   "source": [
    "#graphing the natural log function\n",
    "fa = np.linspace(1e-4, 10, 100) \n",
    "\n",
    "\n",
    "a = np.log(fa)\n",
    "plt.plot(fa, a) \n",
    "plt.xlabel(\"x\") \n",
    "plt.ylabel(\"natual log(x)\")"
   ]
  },
  {
   "cell_type": "markdown",
   "id": "c86cbb20-2ca8-4c6e-9f80-9d0c99302271",
   "metadata": {},
   "source": [
    "The cross entropy loss gives a much better identification of how \"off\" a model from the target, while also being continuous, when $$y = 1,\\hat{y} = .5, L = .693$$\n",
    "$$y = 0,\\hat{y} = .5, L = .693$$\n",
    "\n",
    "The values are still small at $.5$ but it is at least a higher penalty than $.25$ with MSE, furthermore the true value of the Cross Entropy loss lies closer to 0 and one when $$y = 1, \\hat{y} = .1 , L = 2.3$$ $$y = 0,\\hat{y} = .1 , L =.10$$"
   ]
  },
  {
   "cell_type": "markdown",
   "id": "39a1c084-696d-454b-8d13-30d27d298e3d",
   "metadata": {},
   "source": [
    "### Graphing the difference between MSE and Binary Cross entropy\n",
    "\n",
    "To get a better understanding of what is going on, I've provided a graph showing how the Binary Cross Entropy Loss function looks vs the MSE Loss"
   ]
  },
  {
   "cell_type": "code",
   "execution_count": 7,
   "id": "58180f00-605a-4208-b237-91e165632d65",
   "metadata": {},
   "outputs": [],
   "source": [
    "def cross_entropy_loss(y,y_hat):\n",
    "    return -np.mean(y * np.log(y_hat) + ( 1 - y) * np.log(1 - y_hat))"
   ]
  },
  {
   "cell_type": "code",
   "execution_count": 8,
   "id": "18a0bd24-de75-4f4d-b57d-ce16f7004d7c",
   "metadata": {},
   "outputs": [],
   "source": [
    "def mse_loss(targets,outputs):\n",
    "    return np.mean((targets - outputs) ** 2)\n"
   ]
  },
  {
   "cell_type": "code",
   "execution_count": 9,
   "id": "8e538374-b711-4d2b-8003-4f8660ce2959",
   "metadata": {},
   "outputs": [
    {
     "data": {
      "image/png": "[encoded data removed]",
      "text/plain": [
       "<Figure size 800x600 with 2 Axes>"
      ]
     },
     "metadata": {},
     "output_type": "display_data"
    },
    {
     "name": "stdout",
     "output_type": "stream",
     "text": [
      "Average Cross-Entropy Loss: 0.0025\n"
     ]
    }
   ],
   "source": [
    "import matplotlib.pyplot as plt \n",
    "import numpy as np \n",
    "\n",
    "num_samples = 1000\n",
    "\n",
    "\n",
    "y = np.random.randint(0, 2, size=num_samples)\n",
    "\n",
    "\n",
    "raw_predictions = np.random.uniform(-10, 10, size=num_samples)\n",
    "\n",
    "y_hat = sigmoid(raw_predictions)\n",
    "\n",
    "\n",
    "loss = - (y * np.log(y_hat) + ( 1 - y) * np.log(1 - y_hat))\n",
    "\n",
    "plt.figure(figsize=(8, 6))\n",
    "scatter = plt.scatter(y_hat, loss, alpha=0.5, c=y, cmap='bwr', edgecolors='k', label='Loss per sample')\n",
    "plt.xlabel(\"Predicted Probability (y_hat)\") \n",
    "plt.ylabel(\"Cross-Entropy Loss\")\n",
    "plt.title(\"Cross-Entropy Loss vs. Predicted Probability\")\n",
    "plt.colorbar(scatter, label='True Label (y)')\n",
    "plt.grid(True)\n",
    "plt.show()\n",
    "\n",
    "average_loss = cross_entropy_loss(y, y_hat) / num_samples\n",
    "print(f\"Average Cross-Entropy Loss: {average_loss:.4f}\")\n"
   ]
  },
  {
   "cell_type": "code",
   "execution_count": 10,
   "id": "5d6f44e3-0bdd-4b41-8730-024f2fe75e0e",
   "metadata": {},
   "outputs": [
    {
     "data": {
      "image/png": "[encoded data removed]",
      "text/plain": [
       "<Figure size 800x600 with 2 Axes>"
      ]
     },
     "metadata": {},
     "output_type": "display_data"
    },
    {
     "name": "stdout",
     "output_type": "stream",
     "text": [
      "Average MSE Loss: 0.0005\n"
     ]
    }
   ],
   "source": [
    "import matplotlib.pyplot as plt \n",
    "import numpy as np \n",
    "\n",
    "num_samples = 1000\n",
    "\n",
    "\n",
    "y = np.random.randint(0, 2, size=num_samples)\n",
    "\n",
    "\n",
    "raw_predictions = np.random.uniform(-10, 10, size=num_samples)\n",
    "\n",
    "y_hat = sigmoid(raw_predictions)\n",
    "\n",
    "\n",
    "loss = (y - y_hat)**2\n",
    "\n",
    "plt.figure(figsize=(8, 6))\n",
    "scatter = plt.scatter(y_hat, loss, alpha=0.5, c=y, cmap='bwr', edgecolors='k', label='Loss per sample')\n",
    "plt.xlabel(\"Predicted Probability (y_hat)\") \n",
    "plt.ylabel(\"MSE Loss\")\n",
    "plt.title(\"MSE Loss vs. Predicted Probability\")\n",
    "plt.colorbar(scatter, label='True Label (y)')\n",
    "plt.grid(True)\n",
    "plt.show()\n",
    "\n",
    "average_loss = mse_loss(y, y_hat) / num_samples\n",
    "print(f\"Average MSE Loss: {average_loss:.4f}\")"
   ]
  },
  {
   "cell_type": "markdown",
   "id": "b3757216-62f7-425b-95f8-5bcdb7236392",
   "metadata": {},
   "source": [
    "## Gradient Descent using the Cross Entropy Loss Function using Logistic Regression\n",
    "In order to get a good understanding of how a model might work, I will begin with the most basic model. Logistic Regression, that is, a model defined as $$\\hat{y} =\\sigma( x_1 w_1 + x_2 w_2 + x_3 w_3 + ...+ x_n w_n + b) $$ $$\\hat{y} = \\sigma(X \\cdot W + b) $$"
   ]
  },
  {
   "cell_type": "markdown",
   "id": "8674bf73-4b4c-43e9-8b9d-b3909eb53fc0",
   "metadata": {},
   "source": [
    "$$L = - [y \\cdot \\ln (\\hat{y}) + (1 - y) \\cdot \\ln( 1 - \\hat{y})]$$\n"
   ]
  },
  {
   "cell_type": "markdown",
   "id": "d34fc30e-11b5-48c9-97c2-a2f0f502b3a3",
   "metadata": {},
   "source": [
    "$$\\frac{\\partial L }{\\partial \\hat{y}} = -y \\cdot \\frac{1}{\\hat{y}}  + - [(1 - y) \\cdot \\frac{-1}{1 - \\hat{y}}]$$\n",
    "$$\\frac{\\partial L }{\\partial \\hat{y}} =  \\frac{-y}{\\hat{y}}  +  \\frac{ 1 - y}{1 - \\hat{y}}$$\n",
    "$$\\frac{\\partial L }{\\partial \\hat{y}} =  \\frac{-y (1 - \\hat{y})}{(1 - \\hat{y})\\hat{y}}  +  \\frac{\\hat{y}  (1 - y)}{\\hat{y} (1 - \\hat{y})}$$\n",
    "$$\\frac{\\partial L }{\\partial \\hat{y}} = \\frac{-y + y\\hat{y} + \\hat{y} - y \\hat{y}}{\\hat{y} - \\hat{y}\\hat{y}}$$\n",
    "$$\\frac{\\partial L }{\\partial \\hat{y}} = \\frac{\\hat{y} - y}{ \\hat{y} - \\hat{y} \\hat{y}}$$\n",
    "$$\\frac{\\partial L }{\\partial \\hat{y}} = \\frac{\\hat{y} - y}{ \\hat{y} ( 1 - \\hat{y}) }$$"
   ]
  },
  {
   "cell_type": "markdown",
   "id": "ee57831d-44ca-4a7f-aaff-eb1508ed72a1",
   "metadata": {},
   "source": [
    "To find the gradient of a given $w_i$ we now need $$\\frac{\\partial L}{\\partial \\hat{y}} \\cdot \\frac{\\partial \\hat{y}}{\\partial w_i}$$\n",
    "$$\\frac{\\partial \\hat{y}}{\\partial w_i} = \\frac{\\partial \\sigma(X \\cdot W + b) }{\\partial w_i} \\cdot \\frac{\\partial (X \\cdot W + b)}{\\partial w_i}$$\n",
    "$$\\frac{\\partial \\sigma(X \\cdot W) }{\\partial w_i} = \\sigma(X \\cdot W + b) \\cdot (1 - \\sigma(X \\cdot W + b))$$\n",
    "$$\\frac{\\partial X \\cdot W}{\\partial w_i} = x_i$$\n",
    "$$\\frac{\\partial L}{\\partial w_i} = \\frac{\\hat{y} - y}{ \\hat{y} ( 1 - \\hat{y}) } \\cdot \\sigma(X \\cdot W + b) \\cdot (1 - \\sigma(X \\cdot W + b)) \\cdot x_i $$\n",
    "because $\\sigma(X \\cdot W + b)  = \\hat{y}$ \n",
    "$$\\frac{\\partial L}{\\partial w_i} = \\frac{\\hat{y} - y}{ \\hat{y} ( 1 - \\hat{y}) } \\cdot \\hat{ y}\\cdot (1 - \\hat{y}) \\cdot x_i $$\n",
    "$$\\frac{\\partial L}{\\partial w_i} = (\\hat{y} - y ) \\cdot x_i$$\n",
    "$$ \\frac{\\partial L}{\\partial W} = (\\hat{y} - y ) \\cdot X$$"
   ]
  },
  {
   "cell_type": "markdown",
   "id": "7e4a6fe8-5bf4-4119-9a4c-b1d197ad9658",
   "metadata": {},
   "source": [
    "## BackPropagation with Binary Cross Entropy"
   ]
  },
  {
   "cell_type": "markdown",
   "id": "a9340d65-1006-47e0-846a-80f6dda8aa26",
   "metadata": {},
   "source": [
    "This however only describes the most basic model, we however want more complicated neural networks, so we will describe a network\n",
    "$$\\hat{y} = \\sigma( \\sigma(\\sigma(x \\cdot w_1 + b_1) \\cdot w_2 + b_2) \\cdot w_3 + b_3)$$"
   ]
  },
  {
   "cell_type": "markdown",
   "id": "7e1801dc-b1f2-4bd9-8070-a1dc28cc3297",
   "metadata": {},
   "source": [
    "The process works fairly similarly to how it did in linear regression. The key difference is the output activation that we have to worry about, so we will begin by deriving $\\nabla W_3$ we need $$\\frac{\\partial L}{\\partial W_3} = \\frac{\\partial L}{\\partial \\hat{y}} \\cdot \\frac{\\partial \\hat{y}}{\\partial W_3}$$\n",
    "$$\\frac{\\partial L }{\\partial \\hat{y}} = \\frac{\\hat{y} - y}{ \\hat{y} ( 1 - \\hat{y}) }$$\n",
    "$$\\frac{\\partial \\hat{y}}{\\partial W_3} =  \\sigma( \\sigma(\\sigma(x \\cdot w_1 + b_1) \\cdot w_2 + b_2) \\cdot w_3 + b_3) \\cdot (1 -  \\sigma( \\sigma(\\sigma(x \\cdot w_1 + b_1) \\cdot w_2 + b_2) \\cdot w_3 + b_3)) \\cdot \\sigma(\\sigma(x \\cdot w_1 + b_1) \\cdot w_2 + b_2)$$\n",
    "$$\\frac{\\partial \\hat{y}}{\\partial W_3} = (\\hat{y} \\cdot (1 - \\hat{y})) \\cdot \\sigma(\\sigma(x \\cdot w_1 + b_1) \\cdot w_2 + b_2)$$\n",
    "$$\\frac{\\partial L }{\\partial W_3} = \\frac{\\hat{y} - y}{ \\hat{y} ( 1 - \\hat{y}) } \\cdot (\\hat{y} \\cdot (1 - \\hat{y})) \\cdot \\sigma(\\sigma(x \\cdot w_1 + b_1) \\cdot w_2 + b_2)$$\n",
    "$$ \\frac{\\partial L }{\\partial W_3 } = (\\hat{y} - y) \\cdot \\sigma(\\sigma(x \\cdot w_1 + b_1) \\cdot w_2 + b_2)$$\n",
    "this can be written more formally as $$\\frac{\\partial L }{\\partial W_3 } = (\\hat{y} - y) \\cdot A_2$$ where $A_2$ is the output of the second layer with the sigmoid activation applied."
   ]
  },
  {
   "cell_type": "markdown",
   "id": "b5a158ea-9289-4b3e-b774-a264be0ba156",
   "metadata": {},
   "source": [
    "Now we can describe $\\nabla W_2$\n",
    "$$\\frac{\\partial L}{\\partial W_2} = \\frac{\\partial L}{\\partial \\hat{y}} \\cdot \\frac{\\partial \\hat{y}}{\\partial W_2}$$\n",
    "$$\\frac{\\partial \\hat{y}}{\\partial W_2} = A_1 \\cdot \\hat{y} ( 1 - \\hat{y}) \\cdot W_3   \\cdot \\sigma(Z_2) \\odot\\sigma( 1- Z_2)$$\n",
    "where $Z_2$ is the output of the second layer without the activation\n",
    "thus $$\\frac{\\partial L}{\\partial W_2} = A_1 \\cdot (\\hat{y} - y ) \\cdot W_3 \\cdot \\sigma(Z_2) \\odot\\sigma( 1- Z_2) $$\n",
    "$\\odot $ is element wise"
   ]
  },
  {
   "cell_type": "markdown",
   "id": "da5bf4b8-8a59-4041-92ed-e0b00a88c69f",
   "metadata": {},
   "source": [
    "Notice that this simplifies ot the general algorithm we defined in the standard regression Backpropagation of $$\\nabla W_i = A(O)_{i-1}^T [\\frac{\\partial L}{\\partial O_{i+1}} \\bullet W_{i + 1}^T \\odot A^{\\prime}(O_i)]$$\n",
    "\n",
    "$$\n",
    "A(x) =\n",
    "\\begin{cases}\n",
    "x, & \\text{if } i = 0 \\text{ (input layer)} \\\n",
    "\\sigma(x), & \\text{otherwise}\n",
    "\\end{cases}\n",
    "$$"
   ]
  },
  {
   "cell_type": "markdown",
   "id": "8e93ac58-2de8-429c-ac2e-8b344fcee773",
   "metadata": {},
   "source": [
    "## Implementing a Binary Cross Entropy Model"
   ]
  },
  {
   "cell_type": "code",
   "execution_count": 11,
   "id": "a1124eea-f690-4a1f-bc8c-2440febd2ca4",
   "metadata": {},
   "outputs": [],
   "source": [
    "from sklearn.datasets import load_breast_cancer\n",
    "import numpy as np\n",
    "\n",
    "# Load the breast_cancer dataset\n",
    "X, y = load_breast_cancer(return_X_y=True, as_frame=True)\n",
    "X,y = X.to_numpy(),y.to_numpy()\n"
   ]
  },
  {
   "cell_type": "code",
   "execution_count": 12,
   "id": "7f07e52d-d24e-4429-9ee2-7ac7ed71c79e",
   "metadata": {},
   "outputs": [],
   "source": [
    "def stable_sigmoid(x):\n",
    "    return np.exp(-np.logaddexp(0, -x))\n",
    "\n",
    "def sigmoid(x):\n",
    "    return stable_sigmoid(x)\n",
    "\n",
    "def sigmoid_derivative(x):\n",
    "    s = sigmoid(x)\n",
    "    return s * (1 - s)"
   ]
  },
  {
   "cell_type": "code",
   "execution_count": 13,
   "id": "e7a63499-d545-4c26-810c-5034913a7c11",
   "metadata": {},
   "outputs": [],
   "source": [
    "#Code for a single Layer\n",
    "class Layer(object):\n",
    "    def __init__(self,input_dimensions,output_dimensions):\n",
    "        self.weights = np.random.randn(input_dimensions,output_dimensions)\n",
    "        self.bias = np.random.randn(output_dimensions) \n",
    "        self.output_dimensions = output_dimensions\n",
    "    def forward(self,x):\n",
    "        return np.matmul(x,self.weights) + self.bias\n"
   ]
  },
  {
   "cell_type": "code",
   "execution_count": 14,
   "id": "d2e0a2c6-2604-4899-b879-5519404cc34c",
   "metadata": {},
   "outputs": [],
   "source": [
    "class MultiLayerPerceptron(object):\n",
    "    def __init__(self,input_dimensions,hidden_layers = [64,128], activation = sigmoid, activation_derivative = sigmoid_derivative):\n",
    "        self.layers =[Layer(input_dimensions,hidden_layers[0])]\n",
    "        #Create the layers\n",
    "        for i in range(1 , len(hidden_layers) ):\n",
    "            self.layers.append(Layer(self.layers[-1].output_dimensions,hidden_layers[i]))\n",
    "        # Create the output Layer\n",
    "        self.output_layer = Layer(self.layers[-1].output_dimensions,1)\n",
    "        #Activation function\n",
    "        self.activation = activation\n",
    "        #derivative of the activation function\n",
    "        self.activation_derivative = activation_derivative\n",
    "    def forward(self,x):\n",
    "        for layer in self.layers:\n",
    "            x = self.activation(layer.forward(x))\n",
    "        return self.output_layer.forward(x)"
   ]
  },
  {
   "cell_type": "code",
   "execution_count": 15,
   "id": "3f71147f-4923-440d-8a9e-b184869f21f9",
   "metadata": {},
   "outputs": [],
   "source": [
    "def stable_sigmoid(x):\n",
    "    return np.exp(-np.logaddexp(0, -x))\n",
    "\n",
    "def sigmoid(x):\n",
    "    return stable_sigmoid(x)\n",
    "\n",
    "def sigmoid_derivative(x):\n",
    "    s = sigmoid(x)\n",
    "    return s * (1 - s)"
   ]
  },
  {
   "cell_type": "code",
   "execution_count": 16,
   "id": "8c2fa2b0-df17-429b-982c-e14890dfd5d6",
   "metadata": {},
   "outputs": [
    {
     "data": {
      "text/plain": [
       "((569, 1), (569,))"
      ]
     },
     "execution_count": 16,
     "metadata": {},
     "output_type": "execute_result"
    }
   ],
   "source": [
    "neural_network = MultiLayerPerceptron(30)\n",
    "sigmoid(neural_network.forward(X)).shape,y.shape"
   ]
  },
  {
   "cell_type": "code",
   "execution_count": 17,
   "id": "4da20b10-bfb0-4b7f-8bca-eeee73da3035",
   "metadata": {},
   "outputs": [],
   "source": [
    "def train_network(neural_network,features,targets,learning_rate = 0.0001):\n",
    "    targets = np.reshape(targets,(targets.shape[0], 1))\n",
    "    activations = []\n",
    "    inputs = []\n",
    "    inputs.append(features)\n",
    "    activations.append(features)\n",
    "    current_input = features\n",
    "    current_activation = features\n",
    "    for layer in neural_network.layers:\n",
    "        current_input = np.matmul(current_activation,layer.weights) + layer.bias\n",
    "        current_activation = neural_network.activation(current_input)\n",
    "        inputs.append(current_input)\n",
    "        activations.append(current_activation)\n",
    "    current_input = np.matmul(current_activation, neural_network.output_layer.weights) + neural_network.output_layer.bias\n",
    "    current_activation = sigmoid(current_input)\n",
    "\n",
    "    loss =  cross_entropy_loss(targets,current_activation)\n",
    "    error = current_activation - targets\n",
    "    \n",
    "    current_input = inputs.pop()\n",
    "    current_activation = activations.pop()\n",
    "    \n",
    "    final_layer_gradient =  np.dot(current_activation.T, error) \n",
    "    \n",
    "    offset = 1 / len(targets)\n",
    "\n",
    "    neural_network.output_layer.weights -= offset * learning_rate * final_layer_gradient\n",
    "    neural_network.output_layer.bias -= offset * learning_rate * np.sum(error,axis = 0)\n",
    "\n",
    "    current_derivative = np.dot(error,neural_network.output_layer.weights.T) * neural_network.activation_derivative(current_input)\n",
    "    current_input = inputs.pop()\n",
    "    current_activation = activations.pop()\n",
    "    current_gradient = np.dot(current_activation.T,current_derivative)\n",
    "    neural_network.layers[-1].weights -= offset * learning_rate * current_gradient\n",
    "    neural_network.layers[-1].bias -= offset *learning_rate * np.sum(current_derivative,axis=0)\n",
    "\n",
    "    for i in reversed(range(len(neural_network.layers) - 1)):\n",
    "        current_derivative = np.dot(current_derivative,neural_network.layers[i  + 1 ].weights.T) * neural_network.activation_derivative(current_input)\n",
    "        current_input = inputs.pop()\n",
    "        current_activation = activations.pop()\n",
    "        current_gradient = np.dot(current_activation.T,current_derivative)\n",
    "        neural_network.layers[i].weights -= offset * learning_rate * current_gradient\n",
    "        neural_network.layers[i].bias -= offset * learning_rate * np.sum(current_derivative,axis=0)\n",
    "    return loss"
   ]
  },
  {
   "cell_type": "code",
   "execution_count": 18,
   "id": "1b6580a2-0ac3-4edf-a78c-340fe388f922",
   "metadata": {},
   "outputs": [
    {
     "data": {
      "text/plain": [
       "6.156138498287415"
      ]
     },
     "execution_count": 18,
     "metadata": {},
     "output_type": "execute_result"
    }
   ],
   "source": [
    "train_network(neural_network,X,y)"
   ]
  },
  {
   "cell_type": "markdown",
   "id": "653977a3-849e-4f0d-afc7-ee411a22e62b",
   "metadata": {},
   "source": [
    "### Preparing the data"
   ]
  },
  {
   "cell_type": "code",
   "execution_count": 19,
   "id": "a93bddca-367b-42ed-8994-78f9fff3d0d9",
   "metadata": {},
   "outputs": [],
   "source": [
    "num_samples = len(X)\n",
    "permutation = np.random.permutation(num_samples)\n",
    "shuffled_X = X[permutation]\n",
    "shuffled_y = y[permutation]"
   ]
  },
  {
   "cell_type": "code",
   "execution_count": 20,
   "id": "2be9fd5d-1ba3-41a7-9b75-9a9bdac88eaf",
   "metadata": {},
   "outputs": [],
   "source": [
    "train_X,train_y = shuffled_X[0:len(X) - 100],shuffled_y[0:len(y) - 100]\n",
    "test_X, test_y = shuffled_X[-100:], shuffled_y[-100:]"
   ]
  },
  {
   "cell_type": "code",
   "execution_count": 21,
   "id": "d43eb0eb-7f79-4b97-97b1-aa3e241a1ff8",
   "metadata": {},
   "outputs": [],
   "source": [
    "batch_size = 8\n",
    "batched_train_X = np.array_split(train_X, np.ceil(len(train_X) / batch_size))\n",
    "batched_train_y = np.array_split(train_y, np.ceil(len(train_X) / batch_size))"
   ]
  },
  {
   "cell_type": "code",
   "execution_count": 22,
   "id": "d85579c2-0f2c-41fd-a523-9737bf28dc83",
   "metadata": {},
   "outputs": [
    {
     "name": "stderr",
     "output_type": "stream",
     "text": [
      "  0%|                                                   | 0/200 [00:00<?, ?it/s]"
     ]
    },
    {
     "name": "stdout",
     "output_type": "stream",
     "text": [
      " train loss at epoch 0 is 5.647681763072901, test loss : 5.647681763072901\n"
     ]
    },
    {
     "name": "stderr",
     "output_type": "stream",
     "text": [
      "  8%|███▎                                      | 16/200 [00:00<00:02, 78.36it/s]"
     ]
    },
    {
     "name": "stdout",
     "output_type": "stream",
     "text": [
      " train loss at epoch 10 is 3.869099433192383, test loss : 3.869099433192383\n"
     ]
    },
    {
     "name": "stderr",
     "output_type": "stream",
     "text": [
      " 12%|█████▎                                    | 25/200 [00:00<00:02, 82.09it/s]"
     ]
    },
    {
     "name": "stdout",
     "output_type": "stream",
     "text": [
      " train loss at epoch 20 is 3.025380840554328, test loss : 3.025380840554328\n"
     ]
    },
    {
     "name": "stderr",
     "output_type": "stream",
     "text": [
      " 17%|███████▏                                  | 34/200 [00:00<00:01, 83.76it/s]"
     ]
    },
    {
     "name": "stdout",
     "output_type": "stream",
     "text": [
      " train loss at epoch 30 is 2.2371067011889925, test loss : 2.2371067011889925\n"
     ]
    },
    {
     "name": "stderr",
     "output_type": "stream",
     "text": [
      " 22%|█████████                                 | 43/200 [00:00<00:01, 84.69it/s]"
     ]
    },
    {
     "name": "stdout",
     "output_type": "stream",
     "text": [
      " train loss at epoch 40 is 1.3928136539317826, test loss : 1.3928136539317826\n"
     ]
    },
    {
     "name": "stderr",
     "output_type": "stream",
     "text": [
      " 26%|██████████▉                               | 52/200 [00:00<00:01, 85.55it/s]"
     ]
    },
    {
     "name": "stdout",
     "output_type": "stream",
     "text": [
      " train loss at epoch 50 is 0.8779116321666869, test loss : 0.8779116321666869\n"
     ]
    },
    {
     "name": "stderr",
     "output_type": "stream",
     "text": [
      " 30%|████████████▊                             | 61/200 [00:00<00:01, 86.20it/s]"
     ]
    },
    {
     "name": "stdout",
     "output_type": "stream",
     "text": [
      " train loss at epoch 60 is 0.6583740923011666, test loss : 0.6583740923011666\n"
     ]
    },
    {
     "name": "stderr",
     "output_type": "stream",
     "text": [
      " 35%|██████████████▋                           | 70/200 [00:00<00:01, 85.31it/s]"
     ]
    },
    {
     "name": "stdout",
     "output_type": "stream",
     "text": [
      " train loss at epoch 70 is 0.5477035571742642, test loss : 0.5477035571742642\n"
     ]
    },
    {
     "name": "stderr",
     "output_type": "stream",
     "text": [
      " 40%|████████████████▌                         | 79/200 [00:00<00:01, 84.58it/s]"
     ]
    },
    {
     "name": "stdout",
     "output_type": "stream",
     "text": [
      " train loss at epoch 80 is 0.5017002193645694, test loss : 0.5017002193645694\n"
     ]
    },
    {
     "name": "stderr",
     "output_type": "stream",
     "text": [
      " 48%|████████████████████▎                     | 97/200 [00:01<00:01, 83.80it/s]"
     ]
    },
    {
     "name": "stdout",
     "output_type": "stream",
     "text": [
      " train loss at epoch 90 is 0.4897461697431043, test loss : 0.4897461697431043\n"
     ]
    },
    {
     "name": "stderr",
     "output_type": "stream",
     "text": [
      " 53%|█████████████████████▋                   | 106/200 [00:01<00:01, 84.49it/s]"
     ]
    },
    {
     "name": "stdout",
     "output_type": "stream",
     "text": [
      " train loss at epoch 100 is 0.46378631466688974, test loss : 0.46378631466688974\n"
     ]
    },
    {
     "name": "stderr",
     "output_type": "stream",
     "text": [
      " 57%|███████████████████████▌                 | 115/200 [00:01<00:00, 85.33it/s]"
     ]
    },
    {
     "name": "stdout",
     "output_type": "stream",
     "text": [
      " train loss at epoch 110 is 0.4263976607519199, test loss : 0.4263976607519199\n"
     ]
    },
    {
     "name": "stderr",
     "output_type": "stream",
     "text": [
      " 62%|█████████████████████████▍               | 124/200 [00:01<00:00, 85.89it/s]"
     ]
    },
    {
     "name": "stdout",
     "output_type": "stream",
     "text": [
      " train loss at epoch 120 is 0.40439902303855446, test loss : 0.40439902303855446\n"
     ]
    },
    {
     "name": "stderr",
     "output_type": "stream",
     "text": [
      " 66%|███████████████████████████▎             | 133/200 [00:01<00:00, 86.34it/s]"
     ]
    },
    {
     "name": "stdout",
     "output_type": "stream",
     "text": [
      " train loss at epoch 130 is 0.38822910931548316, test loss : 0.38822910931548316\n"
     ]
    },
    {
     "name": "stderr",
     "output_type": "stream",
     "text": [
      " 71%|█████████████████████████████            | 142/200 [00:01<00:00, 86.65it/s]"
     ]
    },
    {
     "name": "stdout",
     "output_type": "stream",
     "text": [
      " train loss at epoch 140 is 0.38140202965521686, test loss : 0.38140202965521686\n"
     ]
    },
    {
     "name": "stderr",
     "output_type": "stream",
     "text": [
      " 76%|██████████████████████████████▉          | 151/200 [00:01<00:00, 86.66it/s]"
     ]
    },
    {
     "name": "stdout",
     "output_type": "stream",
     "text": [
      " train loss at epoch 150 is 0.37666607458986695, test loss : 0.37666607458986695\n"
     ]
    },
    {
     "name": "stderr",
     "output_type": "stream",
     "text": [
      " 80%|████████████████████████████████▊        | 160/200 [00:01<00:00, 85.62it/s]"
     ]
    },
    {
     "name": "stdout",
     "output_type": "stream",
     "text": [
      " train loss at epoch 160 is 0.37308888805315754, test loss : 0.37308888805315754\n"
     ]
    },
    {
     "name": "stderr",
     "output_type": "stream",
     "text": [
      " 84%|██████████████████████████████████▋      | 169/200 [00:01<00:00, 84.71it/s]"
     ]
    },
    {
     "name": "stdout",
     "output_type": "stream",
     "text": [
      " train loss at epoch 170 is 0.37006895483932667, test loss : 0.37006895483932667\n"
     ]
    },
    {
     "name": "stderr",
     "output_type": "stream",
     "text": [
      " 94%|██████████████████████████████████████▎  | 187/200 [00:02<00:00, 83.74it/s]"
     ]
    },
    {
     "name": "stdout",
     "output_type": "stream",
     "text": [
      " train loss at epoch 180 is 0.3673552089861801, test loss : 0.3673552089861801\n"
     ]
    },
    {
     "name": "stderr",
     "output_type": "stream",
     "text": [
      " 98%|████████████████████████████████████████▏| 196/200 [00:02<00:00, 84.34it/s]"
     ]
    },
    {
     "name": "stdout",
     "output_type": "stream",
     "text": [
      " train loss at epoch 190 is 0.36482434053203583, test loss : 0.36482434053203583\n"
     ]
    },
    {
     "name": "stderr",
     "output_type": "stream",
     "text": [
      "100%|█████████████████████████████████████████| 200/200 [00:02<00:00, 84.83it/s]\n"
     ]
    }
   ],
   "source": [
    "from tqdm import tqdm\n",
    "epochs = 200\n",
    "for _ in tqdm(range(epochs)):\n",
    "    for x_batch,y_batch in zip(batched_train_X,batched_train_y):\n",
    "        loss = train_network(neural_network,x_batch  ,y_batch)\n",
    "    if not _ % 10:\n",
    "        test_preds = sigmoid(neural_network.forward(test_X))  \n",
    "        loss = np.mean(cross_entropy_loss(np.reshape(test_y,(test_y.shape[0], 1)),test_preds))\n",
    "        print(f' train loss at epoch {_} is {loss}, test loss : {loss}')"
   ]
  },
  {
   "cell_type": "markdown",
   "id": "e279f37f-82d0-4038-a259-6fd2f79ed73f",
   "metadata": {},
   "source": [
    "## Introducing Evaluation Metrics\n"
   ]
  },
  {
   "cell_type": "markdown",
   "id": "53018fb8-b25c-48b1-8c31-35c619843397",
   "metadata": {},
   "source": [
    "It looks like our model is converging, but how do we know it's actually predicting breast cancer correctly? This is where we introduce  evaluation metrics"
   ]
  },
  {
   "cell_type": "code",
   "execution_count": null,
   "id": "f696fd35-0764-4c90-99f2-3f2b23ec21a6",
   "metadata": {},
   "outputs": [],
   "source": []
  }
 ],
 "metadata": {
  "kernelspec": {
   "display_name": "Python alea-jupyter",
   "language": "python",
   "name": "venv_name"
  },
  "language_info": {
   "codemirror_mode": {
    "name": "ipython",
    "version": 3
   },
   "file_extension": ".py",
   "mimetype": "text/x-python",
   "name": "python",
   "nbconvert_exporter": "python",
   "pygments_lexer": "ipython3",
   "version": "3.10.12"
  }
 },
 "nbformat": 4,
 "nbformat_minor": 5
}
